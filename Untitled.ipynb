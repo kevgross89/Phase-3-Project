{
 "cells": [
  {
   "cell_type": "code",
   "execution_count": 1,
   "metadata": {},
   "outputs": [],
   "source": [
    "import pandas as pd"
   ]
  },
  {
   "cell_type": "code",
   "execution_count": 2,
   "metadata": {},
   "outputs": [],
   "source": [
    "df = pd.read_csv('NFL.csv')"
   ]
  },
  {
   "cell_type": "code",
   "execution_count": 3,
   "metadata": {},
   "outputs": [
    {
     "data": {
      "text/html": [
       "<div>\n",
       "<style scoped>\n",
       "    .dataframe tbody tr th:only-of-type {\n",
       "        vertical-align: middle;\n",
       "    }\n",
       "\n",
       "    .dataframe tbody tr th {\n",
       "        vertical-align: top;\n",
       "    }\n",
       "\n",
       "    .dataframe thead th {\n",
       "        text-align: right;\n",
       "    }\n",
       "</style>\n",
       "<table border=\"1\" class=\"dataframe\">\n",
       "  <thead>\n",
       "    <tr style=\"text-align: right;\">\n",
       "      <th></th>\n",
       "      <th>Year</th>\n",
       "      <th>Player</th>\n",
       "      <th>Age</th>\n",
       "      <th>School</th>\n",
       "      <th>Height</th>\n",
       "      <th>Weight</th>\n",
       "      <th>Sprint_40yd</th>\n",
       "      <th>Vertical_Jump</th>\n",
       "      <th>Bench_Press_Reps</th>\n",
       "      <th>Broad_Jump</th>\n",
       "      <th>Agility_3cone</th>\n",
       "      <th>Shuttle</th>\n",
       "      <th>Drafted..tm.rnd.yr.</th>\n",
       "      <th>BMI</th>\n",
       "      <th>Player_Type</th>\n",
       "      <th>Position_Type</th>\n",
       "      <th>Position</th>\n",
       "      <th>Drafted</th>\n",
       "    </tr>\n",
       "  </thead>\n",
       "  <tbody>\n",
       "    <tr>\n",
       "      <th>0</th>\n",
       "      <td>2009</td>\n",
       "      <td>Beanie Wells\\WellCh00</td>\n",
       "      <td>20.0</td>\n",
       "      <td>Ohio St.</td>\n",
       "      <td>1.8542</td>\n",
       "      <td>106.594207</td>\n",
       "      <td>4.38</td>\n",
       "      <td>85.09</td>\n",
       "      <td>25.0</td>\n",
       "      <td>325.12</td>\n",
       "      <td>NaN</td>\n",
       "      <td>NaN</td>\n",
       "      <td>Arizona Cardinals / 1st / 31st pick / 2009</td>\n",
       "      <td>31.004194</td>\n",
       "      <td>offense</td>\n",
       "      <td>backs_receivers</td>\n",
       "      <td>RB</td>\n",
       "      <td>Yes</td>\n",
       "    </tr>\n",
       "    <tr>\n",
       "      <th>1</th>\n",
       "      <td>2009</td>\n",
       "      <td>Will Davis\\DaviWi99</td>\n",
       "      <td>22.0</td>\n",
       "      <td>Illinois</td>\n",
       "      <td>1.8796</td>\n",
       "      <td>118.387609</td>\n",
       "      <td>4.84</td>\n",
       "      <td>83.82</td>\n",
       "      <td>27.0</td>\n",
       "      <td>292.10</td>\n",
       "      <td>7.38</td>\n",
       "      <td>4.45</td>\n",
       "      <td>Arizona Cardinals / 6th / 204th pick / 2009</td>\n",
       "      <td>33.510073</td>\n",
       "      <td>defense</td>\n",
       "      <td>defensive_lineman</td>\n",
       "      <td>DE</td>\n",
       "      <td>Yes</td>\n",
       "    </tr>\n",
       "    <tr>\n",
       "      <th>2</th>\n",
       "      <td>2009</td>\n",
       "      <td>Herman Johnson\\JohnHe23</td>\n",
       "      <td>24.0</td>\n",
       "      <td>LSU</td>\n",
       "      <td>2.0066</td>\n",
       "      <td>165.107623</td>\n",
       "      <td>5.50</td>\n",
       "      <td>NaN</td>\n",
       "      <td>21.0</td>\n",
       "      <td>NaN</td>\n",
       "      <td>NaN</td>\n",
       "      <td>NaN</td>\n",
       "      <td>Arizona Cardinals / 5th / 167th pick / 2009</td>\n",
       "      <td>41.005821</td>\n",
       "      <td>offense</td>\n",
       "      <td>offensive_lineman</td>\n",
       "      <td>OG</td>\n",
       "      <td>Yes</td>\n",
       "    </tr>\n",
       "    <tr>\n",
       "      <th>3</th>\n",
       "      <td>2009</td>\n",
       "      <td>Rashad Johnson\\JohnRa98</td>\n",
       "      <td>23.0</td>\n",
       "      <td>Alabama</td>\n",
       "      <td>1.8034</td>\n",
       "      <td>92.079251</td>\n",
       "      <td>4.49</td>\n",
       "      <td>93.98</td>\n",
       "      <td>15.0</td>\n",
       "      <td>304.80</td>\n",
       "      <td>7.09</td>\n",
       "      <td>4.23</td>\n",
       "      <td>Arizona Cardinals / 3rd / 95th pick / 2009</td>\n",
       "      <td>28.312463</td>\n",
       "      <td>defense</td>\n",
       "      <td>defensive_back</td>\n",
       "      <td>FS</td>\n",
       "      <td>Yes</td>\n",
       "    </tr>\n",
       "    <tr>\n",
       "      <th>4</th>\n",
       "      <td>2009</td>\n",
       "      <td>Cody Brown\\BrowCo96</td>\n",
       "      <td>22.0</td>\n",
       "      <td>Connecticut</td>\n",
       "      <td>1.8796</td>\n",
       "      <td>110.676538</td>\n",
       "      <td>4.76</td>\n",
       "      <td>92.71</td>\n",
       "      <td>26.0</td>\n",
       "      <td>304.80</td>\n",
       "      <td>7.10</td>\n",
       "      <td>4.40</td>\n",
       "      <td>Arizona Cardinals / 2nd / 63rd pick / 2009</td>\n",
       "      <td>31.327425</td>\n",
       "      <td>defense</td>\n",
       "      <td>line_backer</td>\n",
       "      <td>OLB</td>\n",
       "      <td>Yes</td>\n",
       "    </tr>\n",
       "  </tbody>\n",
       "</table>\n",
       "</div>"
      ],
      "text/plain": [
       "   Year                   Player   Age       School  Height      Weight  \\\n",
       "0  2009    Beanie Wells\\WellCh00  20.0     Ohio St.  1.8542  106.594207   \n",
       "1  2009      Will Davis\\DaviWi99  22.0     Illinois  1.8796  118.387609   \n",
       "2  2009  Herman Johnson\\JohnHe23  24.0          LSU  2.0066  165.107623   \n",
       "3  2009  Rashad Johnson\\JohnRa98  23.0      Alabama  1.8034   92.079251   \n",
       "4  2009      Cody Brown\\BrowCo96  22.0  Connecticut  1.8796  110.676538   \n",
       "\n",
       "   Sprint_40yd  Vertical_Jump  Bench_Press_Reps  Broad_Jump  Agility_3cone  \\\n",
       "0         4.38          85.09              25.0      325.12            NaN   \n",
       "1         4.84          83.82              27.0      292.10           7.38   \n",
       "2         5.50            NaN              21.0         NaN            NaN   \n",
       "3         4.49          93.98              15.0      304.80           7.09   \n",
       "4         4.76          92.71              26.0      304.80           7.10   \n",
       "\n",
       "   Shuttle                          Drafted..tm.rnd.yr.        BMI  \\\n",
       "0      NaN   Arizona Cardinals / 1st / 31st pick / 2009  31.004194   \n",
       "1     4.45  Arizona Cardinals / 6th / 204th pick / 2009  33.510073   \n",
       "2      NaN  Arizona Cardinals / 5th / 167th pick / 2009  41.005821   \n",
       "3     4.23   Arizona Cardinals / 3rd / 95th pick / 2009  28.312463   \n",
       "4     4.40   Arizona Cardinals / 2nd / 63rd pick / 2009  31.327425   \n",
       "\n",
       "  Player_Type      Position_Type Position Drafted  \n",
       "0     offense    backs_receivers       RB     Yes  \n",
       "1     defense  defensive_lineman       DE     Yes  \n",
       "2     offense  offensive_lineman       OG     Yes  \n",
       "3     defense     defensive_back       FS     Yes  \n",
       "4     defense        line_backer      OLB     Yes  "
      ]
     },
     "execution_count": 3,
     "metadata": {},
     "output_type": "execute_result"
    }
   ],
   "source": [
    "df.head()"
   ]
  },
  {
   "cell_type": "code",
   "execution_count": 5,
   "metadata": {},
   "outputs": [
    {
     "name": "stdout",
     "output_type": "stream",
     "text": [
      "<class 'pandas.core.frame.DataFrame'>\n",
      "RangeIndex: 3477 entries, 0 to 3476\n",
      "Data columns (total 18 columns):\n",
      " #   Column               Non-Null Count  Dtype  \n",
      "---  ------               --------------  -----  \n",
      " 0   Year                 3477 non-null   int64  \n",
      " 1   Player               3477 non-null   object \n",
      " 2   Age                  2927 non-null   float64\n",
      " 3   School               3477 non-null   object \n",
      " 4   Height               3477 non-null   float64\n",
      " 5   Weight               3477 non-null   float64\n",
      " 6   Sprint_40yd          3303 non-null   float64\n",
      " 7   Vertical_Jump        2780 non-null   float64\n",
      " 8   Bench_Press_Reps     2572 non-null   float64\n",
      " 9   Broad_Jump           2749 non-null   float64\n",
      " 10  Agility_3cone        2260 non-null   float64\n",
      " 11  Shuttle              2337 non-null   float64\n",
      " 12  Drafted..tm.rnd.yr.  2254 non-null   object \n",
      " 13  BMI                  3477 non-null   float64\n",
      " 14  Player_Type          3477 non-null   object \n",
      " 15  Position_Type        3477 non-null   object \n",
      " 16  Position             3477 non-null   object \n",
      " 17  Drafted              3477 non-null   object \n",
      "dtypes: float64(10), int64(1), object(7)\n",
      "memory usage: 489.1+ KB\n"
     ]
    }
   ],
   "source": [
    "df.info()"
   ]
  },
  {
   "cell_type": "code",
   "execution_count": 6,
   "metadata": {},
   "outputs": [
    {
     "data": {
      "text/plain": [
       "Year                      0\n",
       "Player                    0\n",
       "Age                     550\n",
       "School                    0\n",
       "Height                    0\n",
       "Weight                    0\n",
       "Sprint_40yd             174\n",
       "Vertical_Jump           697\n",
       "Bench_Press_Reps        905\n",
       "Broad_Jump              728\n",
       "Agility_3cone          1217\n",
       "Shuttle                1140\n",
       "Drafted..tm.rnd.yr.    1223\n",
       "BMI                       0\n",
       "Player_Type               0\n",
       "Position_Type             0\n",
       "Position                  0\n",
       "Drafted                   0\n",
       "dtype: int64"
      ]
     },
     "execution_count": 6,
     "metadata": {},
     "output_type": "execute_result"
    }
   ],
   "source": [
    "df.isna().sum()"
   ]
  },
  {
   "cell_type": "code",
   "execution_count": 7,
   "metadata": {},
   "outputs": [
    {
     "data": {
      "text/plain": [
       "backs_receivers       1260\n",
       "defensive_back         657\n",
       "offensive_lineman      555\n",
       "defensive_lineman      501\n",
       "line_backer            380\n",
       "kicking_specialist     111\n",
       "other_special           13\n",
       "Name: Position_Type, dtype: int64"
      ]
     },
     "execution_count": 7,
     "metadata": {},
     "output_type": "execute_result"
    }
   ],
   "source": [
    "df['Position_Type'].value_counts()"
   ]
  },
  {
   "cell_type": "code",
   "execution_count": 8,
   "metadata": {},
   "outputs": [
    {
     "data": {
      "text/plain": [
       "WR     506\n",
       "CB     393\n",
       "RB     320\n",
       "OT     278\n",
       "DT     255\n",
       "DE     246\n",
       "OLB    232\n",
       "QB     194\n",
       "TE     191\n",
       "OG     188\n",
       "ILB    148\n",
       "SS     108\n",
       "FS      98\n",
       "C       89\n",
       "P       63\n",
       "S       56\n",
       "FB      49\n",
       "K       48\n",
       "LS      13\n",
       "DB       2\n",
       "Name: Position, dtype: int64"
      ]
     },
     "execution_count": 8,
     "metadata": {},
     "output_type": "execute_result"
    }
   ],
   "source": [
    "df['Position'].value_counts()"
   ]
  },
  {
   "cell_type": "code",
   "execution_count": 9,
   "metadata": {},
   "outputs": [
    {
     "data": {
      "text/plain": [
       "Yes    2254\n",
       "No     1223\n",
       "Name: Drafted, dtype: int64"
      ]
     },
     "execution_count": 9,
     "metadata": {},
     "output_type": "execute_result"
    }
   ],
   "source": [
    "df['Drafted'].value_counts()"
   ]
  },
  {
   "cell_type": "code",
   "execution_count": null,
   "metadata": {},
   "outputs": [],
   "source": []
  }
 ],
 "metadata": {
  "kernelspec": {
   "display_name": "Python 3",
   "language": "python",
   "name": "python3"
  },
  "language_info": {
   "codemirror_mode": {
    "name": "ipython",
    "version": 3
   },
   "file_extension": ".py",
   "mimetype": "text/x-python",
   "name": "python",
   "nbconvert_exporter": "python",
   "pygments_lexer": "ipython3",
   "version": "3.8.5"
  }
 },
 "nbformat": 4,
 "nbformat_minor": 4
}
